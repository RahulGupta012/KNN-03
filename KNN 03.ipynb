{
 "cells": [
  {
   "cell_type": "markdown",
   "id": "3d0b8ffb-b91a-40f3-8f1f-fc6a23d51b40",
   "metadata": {},
   "source": [
    "<div style=\"background-color: #C0AFDD; color: black; text-align: center; padding: 10px; border-radius: 10px; \">\n",
    "    <h1>KNN 03</h1>\n",
    "</div>"
   ]
  },
  {
   "cell_type": "markdown",
   "id": "ee728ff2-2b7b-4a1a-8330-e6763be9dc52",
   "metadata": {},
   "source": [
    "# Q1. Write a Python code to implement the KNN classifier algorithm on load_iris dataset in sklearn.datasets."
   ]
  },
  {
   "cell_type": "code",
   "execution_count": 1,
   "id": "3011853e-1bf7-422e-94b5-571df9b4486a",
   "metadata": {},
   "outputs": [
    {
     "name": "stdout",
     "output_type": "stream",
     "text": [
      " accuracy score of KNN Classifier : 0.98\n"
     ]
    }
   ],
   "source": [
    "# importing important libraries\n",
    "\n",
    "from sklearn.datasets import load_iris\n",
    "from sklearn.model_selection import train_test_split\n",
    "from sklearn.neighbors import KNeighborsClassifier\n",
    "from sklearn.metrics import accuracy_score\n",
    "\n",
    "#loading the iris dataset\n",
    "\n",
    "dataset = load_iris()\n",
    "\n",
    "# defining the x(independent features) and y(dependent feature)\n",
    "\n",
    "x= dataset.data\n",
    "y= dataset.target\n",
    "\n",
    "# dividing the dataset into training data and test data\n",
    "\n",
    "x_train , x_test , y_train , y_test = train_test_split(x, y, test_size=0.33 , random_state=42)\n",
    "\n",
    "# intilizing the KNN classifier\n",
    "\n",
    "knn = KNeighborsClassifier()\n",
    "\n",
    "#trainig our KNN Classifier model\n",
    "\n",
    "knn.fit(x_train , y_train)\n",
    "\n",
    "# predicting the value for model\n",
    "\n",
    "y_pred= knn.predict(x_test)\n",
    "\n",
    "#evaluating the accuracy of KNN classifier model\n",
    "\n",
    "print ( f\" accuracy score of KNN Classifier : { accuracy_score(y_pred , y_test)}\")\n",
    "\n",
    "\n"
   ]
  },
  {
   "cell_type": "markdown",
   "id": "2d494e0e-4ee3-4330-85f7-e86836b89cfd",
   "metadata": {},
   "source": [
    "# Q2. Write a Python code to implement the KNN regressor algorithm on  load_wine dataset in sklearn.datasets."
   ]
  },
  {
   "cell_type": "code",
   "execution_count": 2,
   "id": "cb57eede-1604-4c34-8595-712016c59b01",
   "metadata": {},
   "outputs": [
    {
     "name": "stdout",
     "output_type": "stream",
     "text": [
      " accuracy score of KNN Regressor : 0.3522047943178457\n"
     ]
    }
   ],
   "source": [
    "# importing important libraries\n",
    "\n",
    "from sklearn.datasets import load_wine\n",
    "from sklearn.model_selection import train_test_split\n",
    "from sklearn.neighbors import KNeighborsRegressor\n",
    "from sklearn.metrics import r2_score\n",
    "\n",
    "#loading the iris dataset\n",
    "\n",
    "dataset = load_wine()\n",
    "\n",
    "# defining the x(independent features) and y(dependent feature)\n",
    "\n",
    "x= dataset.data\n",
    "y= dataset.target\n",
    "\n",
    "# dividing the dataset into training data and test data\n",
    "\n",
    "x_train , x_test , y_train , y_test = train_test_split(x, y, test_size=0.33 , random_state=42)\n",
    "\n",
    "# intilizing the KNN Regressor\n",
    "\n",
    "knn = KNeighborsRegressor()\n",
    "\n",
    "#trainig our KNN Regressor model\n",
    "\n",
    "knn.fit(x_train , y_train)\n",
    "\n",
    "# predicting the value for model\n",
    "\n",
    "y_pred= knn.predict(x_test)\n",
    "\n",
    "#evaluating the accuracy of KNN Regressor model\n",
    "\n",
    "print ( f\" accuracy score of KNN Regressor : { r2_score(y_pred , y_test)}\")\n",
    "\n"
   ]
  },
  {
   "cell_type": "markdown",
   "id": "3fcfc073-7515-41b4-b4cc-e34085400d79",
   "metadata": {},
   "source": [
    "***Note : The accuracy of the model is very poor beacuse we did not scaling the data. The data in the wine data set has outliers and a vast range, and model is not able to gernalize the data. However in Quation number 4 we have solve this problem by using starndrad scaling.***\n",
    "\n",
    "____"
   ]
  },
  {
   "cell_type": "markdown",
   "id": "e9cc764d-b213-4a38-b1bc-79cb81c37e8e",
   "metadata": {},
   "source": [
    "# Q3. Write a Python code snippet to find the optimal value of K for the KNN classifier algorithm using cross-validation on load_iris dataset in sklearn.datasets."
   ]
  },
  {
   "cell_type": "code",
   "execution_count": 13,
   "id": "36300d63-ffa5-4bb0-877c-2eeda9bbcb9d",
   "metadata": {},
   "outputs": [
    {
     "name": "stdout",
     "output_type": "stream",
     "text": [
      "These are the parameters with their best optimal value in terms of accuracy ----------> {'metric': 'manhattan', 'n_neighbors': 5, 'weights': 'distance'}\n"
     ]
    }
   ],
   "source": [
    "# loading important libreries\n",
    "\n",
    "from sklearn.datasets import load_iris\n",
    "from sklearn.neighbors import KNeighborsClassifier\n",
    "from sklearn.model_selection import GridSearchCV\n",
    "from sklearn.model_selection import train_test_split\n",
    "\n",
    "#loading the iris dataset\n",
    "\n",
    "dataset = load_wine()\n",
    "\n",
    "# defining the x(independent features) and y(dependent feature)\n",
    "\n",
    "x= dataset.data\n",
    "y= dataset.target\n",
    "\n",
    "# dividing the dataset into training data and test data\n",
    "\n",
    "x_train , x_test , y_train , y_test = train_test_split(x, y, test_size=0.33 , random_state=42)\n",
    "\n",
    "# Experimenting with various parameters and their best supposing values\n",
    "\n",
    "parms = { 'n_neighbors' : [3,4,5,6],\n",
    "          'weights' : ['uniform', 'distance'],\n",
    "         'metric' : ['euclidean', 'manhattan','minkowski','chebyshev']\n",
    "}\n",
    "\n",
    "#initilzing the model\n",
    "\n",
    "clf= KNeighborsClassifier()\n",
    "\n",
    "#searching for best value of the parameters by gridsearch\n",
    "\n",
    "gridsearch = GridSearchCV( clf ,parms , cv=3 ,  scoring='accuracy')\n",
    "\n",
    "#fitting the training data to the search model\n",
    "\n",
    "gridsearch.fit( x_train , y_train)\n",
    "\n",
    "# Here the list of best params and their best optimal values according to our dataset.\n",
    "\n",
    "print(f'These are the parameters with their best optimal value in terms of accuracy ----------> {gridsearch.best_params_}')"
   ]
  },
  {
   "cell_type": "markdown",
   "id": "b9263405-4326-410b-b363-24fb9850f75a",
   "metadata": {},
   "source": [
    "# Q4. Implement the KNN regressor algorithm with feature scaling on load_wine dataset in sklearn.datasets."
   ]
  },
  {
   "cell_type": "code",
   "execution_count": 47,
   "id": "062f8186-c4af-4757-907f-5e88833dd14f",
   "metadata": {},
   "outputs": [
    {
     "name": "stdout",
     "output_type": "stream",
     "text": [
      " accuracy score of KNN Regressor : 0.9539357783472133\n"
     ]
    }
   ],
   "source": [
    "# As boston dataset has not available more in the updated sklearn library so we load it from seaborn\n",
    "\n",
    "from sklearn.datasets import load_wine\n",
    "from sklearn.preprocessing import StandardScaler\n",
    "from sklearn.model_selection import train_test_split\n",
    "from sklearn.neighbors import KNeighborsRegressor\n",
    "from sklearn.metrics import r2_score\n",
    "\n",
    "\n",
    "df= load_wine()\n",
    "\n",
    "x= df.data\n",
    "y= df.target\n",
    "\n",
    "\n",
    "x_train ,x_test ,y_train ,y_test = train_test_split( x,y , test_size=0.33 , random_state=42)\n",
    "\n",
    "\n",
    "scaler = StandardScaler()\n",
    "\n",
    "x_train_scaled = scaler.fit_transform(x_train)\n",
    "x_test_scaled = scaler.transform(x_test)\n",
    "\n",
    "# intilizing the KNN Regressor\n",
    "\n",
    "knn = KNeighborsRegressor()\n",
    "\n",
    "#trainig our KNN Regressor model\n",
    "\n",
    "knn.fit(x_train_scaled , y_train)\n",
    "\n",
    "# predicting the value for model\n",
    "\n",
    "y_pred= knn.predict(x_test_scaled)\n",
    "\n",
    "#evaluating the accuracy of KNN Regressor model\n",
    "\n",
    "print ( f\" accuracy score of KNN Regressor : { r2_score(y_pred , y_test)}\")\n",
    "\n",
    "\n",
    "\n"
   ]
  },
  {
   "cell_type": "markdown",
   "id": "b110a058-7e1d-447a-a7bc-836d17a4a526",
   "metadata": {},
   "source": [
    "# Q5. Write a Python code snippet to implement the KNN classifier algorithm with weighted voting on load_iris dataset in sklearn datasets."
   ]
  },
  {
   "cell_type": "code",
   "execution_count": 28,
   "id": "7da9cf39-ddac-490f-b364-2ee6e04dedfc",
   "metadata": {},
   "outputs": [
    {
     "name": "stdout",
     "output_type": "stream",
     "text": [
      " accuracy score of KNN Classifier : 0.98\n"
     ]
    }
   ],
   "source": [
    "# importing important libraries\n",
    "\n",
    "from sklearn.datasets import load_iris\n",
    "from sklearn.model_selection import train_test_split\n",
    "from sklearn.neighbors import KNeighborsClassifier\n",
    "from sklearn.metrics import accuracy_score\n",
    "\n",
    "#loading the iris dataset\n",
    "\n",
    "dataset = load_iris()\n",
    "\n",
    "# defining the x(independent features) and y(dependent feature)\n",
    "\n",
    "x= dataset.data\n",
    "y= dataset.target\n",
    "\n",
    "# dividing the dataset into training data and test data\n",
    "\n",
    "x_train , x_test , y_train , y_test = train_test_split(x, y, test_size=0.33 , random_state=42)\n",
    "\n",
    "# intilizing the KNN classifier\n",
    "\n",
    "knn = KNeighborsClassifier(n_neighbors=3, weights='distance')\n",
    "\n",
    "#trainig our KNN Classifier model\n",
    "\n",
    "knn.fit(x_train , y_train)\n",
    "\n",
    "# predicting the value for model\n",
    "\n",
    "y_pred= knn.predict(x_test)\n",
    "\n",
    "#evaluating the accuracy of KNN classifier model\n",
    "\n",
    "print ( f\" accuracy score of KNN Classifier : { accuracy_score(y_pred , y_test)}\")\n",
    "\n",
    "\n"
   ]
  },
  {
   "cell_type": "markdown",
   "id": "17b73be1-adee-406b-a477-d5a70e127e9a",
   "metadata": {},
   "source": [
    "# Q6. Implement a function to standardise the features before applying KNN classifier."
   ]
  },
  {
   "cell_type": "code",
   "execution_count": 35,
   "id": "5295d1de-dd30-457c-b2cd-ac0f5dc2c34a",
   "metadata": {},
   "outputs": [
    {
     "name": "stdout",
     "output_type": "stream",
     "text": [
      " This is the accuracy of knn classifier with scaled data :0.98\n"
     ]
    }
   ],
   "source": [
    "# importing important libaries\n",
    "\n",
    "from sklearn.datasets import load_iris\n",
    "from sklearn.model_selection import train_test_split\n",
    "from sklearn.neighbors import KNeighborsClassifier\n",
    "from sklearn.preprocessing import StandardScaler\n",
    "from sklearn.metrics import accuracy_score\n",
    "\n",
    "#loading the iris dataset\n",
    "\n",
    "dataset = load_iris()\n",
    "\n",
    "# defining the x(independent features) and y(dependent feature)\n",
    "\n",
    "x= dataset.data\n",
    "y= dataset.target\n",
    "\n",
    "# dividing the dataset into training data and test data\n",
    "\n",
    "x_train , x_test , y_train , y_test = train_test_split(x, y, test_size=0.33 , random_state=42)\n",
    "\n",
    "# standered scaling \n",
    "\n",
    "scaling = StandardScaler()\n",
    "\n",
    "x_train_scaled = scaling.fit_transform(x_train)\n",
    "x_test_scaled = scaling.transform (x_test)\n",
    "\n",
    "#intilizing the KNN classifier model\n",
    "clf = KNeighborsClassifier()\n",
    "\n",
    "# training the model\n",
    "clf.fit(x_train_scaled , y_train )\n",
    "\n",
    "#predicting the y \n",
    "y_pred = clf.predict(x_test_scaled)\n",
    "\n",
    "#evaluating the accuracy\n",
    "print (f\" This is the accuracy of knn classifier with scaled data :{accuracy_score(y_pred, y_test)}\")"
   ]
  },
  {
   "cell_type": "markdown",
   "id": "0f4b6175-dfc4-4aa6-a905-5ca0e142fcf7",
   "metadata": {},
   "source": [
    "# Q7. Write a Python function to calculate the euclidean distance between two points."
   ]
  },
  {
   "cell_type": "code",
   "execution_count": 41,
   "id": "697510d5-f1b9-4fba-adde-5dc85dc9152b",
   "metadata": {},
   "outputs": [
    {
     "name": "stdout",
     "output_type": "stream",
     "text": [
      "The Euclidean distance between (1, 2) and (4, 6) is: 5.0\n"
     ]
    }
   ],
   "source": [
    "import math\n",
    "\n",
    "def euclidean_distance(point1, point2):\n",
    "\n",
    "    x1, y1 = point1\n",
    "    x2, y2 = point2\n",
    "\n",
    "    distance = math.sqrt((x2 - x1)**2 + (y2 - y1)**2)\n",
    "    return distance\n",
    "\n",
    "# Example usage:\n",
    "point_a = (1, 2)\n",
    "point_b = (4, 6)\n",
    "\n",
    "distance = euclidean_distance(point_a, point_b)\n",
    "print(f\"The Euclidean distance between {point_a} and {point_b} is: {distance}\")"
   ]
  },
  {
   "cell_type": "markdown",
   "id": "543b420c-57a0-4855-968f-311a649f23b5",
   "metadata": {},
   "source": [
    "# Q8. Write a Python function to calculate the manhattan distance between two points."
   ]
  },
  {
   "cell_type": "code",
   "execution_count": 44,
   "id": "907b8cb2-7a23-4a47-ada2-12d4361c46ea",
   "metadata": {},
   "outputs": [
    {
     "name": "stdout",
     "output_type": "stream",
     "text": [
      "The Manhattan distance between (1, 2) and (4, 6) is: 7\n"
     ]
    }
   ],
   "source": [
    "def manhattan_distance(point1, point2):\n",
    "    \n",
    "    x1, y1 = point1\n",
    "    x2, y2 = point2\n",
    "\n",
    "    distance = abs(x2 - x1) + abs(y2 - y1)\n",
    "    return distance\n",
    "\n",
    "# Example usage:\n",
    "point_a = (1, 2)\n",
    "point_b = (4, 6)\n",
    "\n",
    "distance = manhattan_distance(point_a, point_b)\n",
    "print(f\"The Manhattan distance between {point_a} and {point_b} is: {distance}\")"
   ]
  }
 ],
 "metadata": {
  "kernelspec": {
   "display_name": "Python 3 (ipykernel)",
   "language": "python",
   "name": "python3"
  },
  "language_info": {
   "codemirror_mode": {
    "name": "ipython",
    "version": 3
   },
   "file_extension": ".py",
   "mimetype": "text/x-python",
   "name": "python",
   "nbconvert_exporter": "python",
   "pygments_lexer": "ipython3",
   "version": "3.10.8"
  }
 },
 "nbformat": 4,
 "nbformat_minor": 5
}
